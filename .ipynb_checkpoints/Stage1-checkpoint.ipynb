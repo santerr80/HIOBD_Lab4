{
 "cells": [
  {
   "cell_type": "markdown",
   "id": "003655b2-ed55-4ba9-9448-432eae1db4b8",
   "metadata": {
    "scrolled": true
   },
   "source": [
    "# Задание 1. Бинарная классификация (BinaryClassification)\n",
    "1. Сгенерировать подходящие исходные данные для проведения обучения\n",
    "2. Провести бинарную классификацию с помощью pyspark.ml / pyspark.mllib\n",
    "3. Провести расчет метрик\n",
    "4. Сохранить полученные значения метрик в файл."
   ]
  },
  {
   "cell_type": "markdown",
   "id": "0d44c697-d456-4158-8dc5-2ff43fc64b91",
   "metadata": {},
   "source": [
    "## Сгенерировать подходящие исходные данные для проведения обучения"
   ]
  },
  {
   "cell_type": "code",
   "execution_count": 2,
   "id": "de5690da-9100-4bc4-8280-e512cfbc76e1",
   "metadata": {},
   "outputs": [],
   "source": [
    "import os\n",
    "os.environ['SPARK_HOME'] = \"D:/BigData/spark-3.5.3\"\n",
    "os.environ['PYSPARK_DRIVER_PYTHON'] = 'jupyter'\n",
    "os.environ['PYSPARK_DRIVER_PYTHON_OPTS'] = 'lab'\n",
    "os.environ['PYSPARK_PYTHON'] = 'python'"
   ]
  },
  {
   "cell_type": "code",
   "execution_count": 5,
   "id": "0d180491-f465-487a-a096-036dd5fe7a39",
   "metadata": {},
   "outputs": [],
   "source": [
    "from sklearn.datasets import make_blobs\n",
    "import pandas as pd\n",
    "\n",
    "# Генерация данных\n",
    "X, y = make_blobs(n_samples=1000, centers=2, n_features=4, random_state=42, cluster_std=20)\n",
    "\n",
    "# Объединение столбцов\n",
    "data = [(x[0], x[1], x[2], x[3], y[i]) for i, x in enumerate(X)]\n",
    "\n",
    "# Формирование исходного датафрейма\n",
    "df = pd.DataFrame(data, columns=[\"feature1\", \"feature2\", \"feature3\", \"feature4\", \"label\"])\n"
   ]
  },
  {
   "cell_type": "markdown",
   "id": "40911400-44f5-487a-aec2-109936f81e13",
   "metadata": {},
   "source": [
    "## Провести бинарную классификацию с помощью pyspark.ml / pyspark.mllib"
   ]
  },
  {
   "cell_type": "code",
   "execution_count": 6,
   "id": "666abdeb-236f-4dea-b191-6aef3db88ac2",
   "metadata": {},
   "outputs": [],
   "source": [
    "from pyspark.sql import SparkSession\n",
    "from pyspark.ml.feature import VectorAssembler\n",
    "from pyspark.ml.classification import LogisticRegression\n",
    "\n",
    "\n",
    "# Инициализация SparkSession\n",
    "spark = SparkSession.builder.appName(\"BinaryClassificationExample\").getOrCreate()\n",
    "\n",
    "# Создание DataFrame Spark\n",
    "spark_df = spark.createDataFrame(df)\n",
    "\n",
    "# Векторизация признаков\n",
    "assembler = VectorAssembler(inputCols=[\"feature1\", \"feature2\", \"feature3\", \"feature4\"], outputCol=\"features\")\n",
    "assembled_data = assembler.transform(spark_df)\n",
    "\n",
    "# Разделение на тестовую и тренировочную выборки\n",
    "train_data, test_data = assembled_data.randomSplit([0.8, 0.2], seed=42)\n",
    "\n",
    "# Модель\n",
    "lr = LogisticRegression(featuresCol=\"features\", labelCol=\"label\")\n",
    "\n",
    "# Обучение\n",
    "model = lr.fit(train_data)\n",
    "\n",
    "# Проверка на тестовых данных\n",
    "predictions = model.transform(test_data)"
   ]
  },
  {
   "cell_type": "markdown",
   "id": "a4a5c594-bb17-4021-81ba-7235f3ef2f46",
   "metadata": {},
   "source": [
    "## Провести расчет метрик"
   ]
  },
  {
   "cell_type": "code",
   "execution_count": 7,
   "id": "fc1c1cb9-16bb-429a-8648-530095113262",
   "metadata": {},
   "outputs": [
    {
     "name": "stdout",
     "output_type": "stream",
     "text": [
      "Area Under ROC:  0.7908580860118369\n",
      "Precision by Label:  [0.7180156657963447, 0.7115839243498818]\n",
      "Recall by Label:  [0.6926952141057935, 0.7359413202933985]\n",
      "F1 Score by Label:  [0.7051282051282052, 0.7235576923076923]\n",
      "False Positive Rate by Label:  [0.26405867970660146, 0.30730478589420657]\n",
      "True Positive Rate by Label:  [0.6926952141057935, 0.7359413202933985]\n",
      "Accuracy:  0.7792595753760803\n"
     ]
    }
   ],
   "source": [
    "from pyspark.ml.evaluation import BinaryClassificationEvaluator\n",
    "\n",
    "# Получаем сводную информацию\n",
    "summary = model.summary\n",
    "\n",
    "# Выводим метрики\n",
    "print(\"Area Under ROC: \", summary.areaUnderROC)\n",
    "print(\"Precision by Label: \", summary.precisionByLabel)\n",
    "print(\"Recall by Label: \", summary.recallByLabel)\n",
    "print(\"F1 Score by Label: \", summary.fMeasureByLabel())\n",
    "print(\"False Positive Rate by Label: \", summary.falsePositiveRateByLabel)\n",
    "print(\"True Positive Rate by Label: \", summary.truePositiveRateByLabel)\n",
    "\n",
    "# Оценка модели с использованием BinaryClassificationEvaluator\n",
    "evaluator = BinaryClassificationEvaluator(labelCol='label')\n",
    "accuracy = evaluator.evaluate(predictions)\n",
    "print(\"Accuracy: \", accuracy)"
   ]
  },
  {
   "cell_type": "markdown",
   "id": "e064e64a-ed23-4107-b625-f72e8c0d5567",
   "metadata": {},
   "source": [
    "## Сохранить полученные значения метрик в файл."
   ]
  },
  {
   "cell_type": "code",
   "execution_count": 8,
   "id": "7989f252-0514-4f11-8330-2d4e07d69f10",
   "metadata": {},
   "outputs": [],
   "source": [
    "with open('binaryClassifMetrics.txt', 'w') as file:\n",
    "    print(\"Area Under ROC: \", summary.areaUnderROC, file=file)\n",
    "    print(\"Precision by Label: \", summary.precisionByLabel, file=file)\n",
    "    print(\"Recall by Label: \", summary.recallByLabel, file=file)\n",
    "    print(\"F1 Score by Label: \", summary.fMeasureByLabel(), file=file)\n",
    "    print(\"False Positive Rate by Label: \", summary.falsePositiveRateByLabel, file=file)\n",
    "    print(\"True Positive Rate by Label: \", summary.truePositiveRateByLabel, file=file)\n",
    "    print(\"Accuracy: \", accuracy, file=file)"
   ]
  },
  {
   "cell_type": "code",
   "execution_count": null,
   "id": "2a2bc836-7d6a-4978-8dcc-abe18c271682",
   "metadata": {},
   "outputs": [],
   "source": []
  }
 ],
 "metadata": {
  "kernelspec": {
   "display_name": ".venv",
   "language": "python",
   "name": "python3"
  },
  "language_info": {
   "codemirror_mode": {
    "name": "ipython",
    "version": 3
   },
   "file_extension": ".py",
   "mimetype": "text/x-python",
   "name": "python",
   "nbconvert_exporter": "python",
   "pygments_lexer": "ipython3",
   "version": "3.10.11"
  }
 },
 "nbformat": 4,
 "nbformat_minor": 5
}
