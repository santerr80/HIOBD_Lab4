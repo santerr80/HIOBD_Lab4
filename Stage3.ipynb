{
 "cells": [
  {
   "cell_type": "markdown",
   "metadata": {},
   "source": [
    "# Задание 3. Регрессия (LinearRegression)\n",
    "1. Сгенерировать подходящие исходные данные для проведения обучения\n",
    "2. Провести кластеризацию с помощью pyspark.ml / pyspark.mllib\n",
    "3. Провести расчет метрик\n",
    "4. Сохранить полученные значения метрик в файл."
   ]
  },
  {
   "cell_type": "markdown",
   "metadata": {},
   "source": [
    "## Сгенерировать подходящие исходные данные для проведения обучения"
   ]
  },
  {
   "cell_type": "code",
   "execution_count": 1,
   "metadata": {},
   "outputs": [],
   "source": [
    "import os\n",
    "os.environ['SPARK_HOME'] = \"D:/BigData/spark-3.5.3\"\n",
    "os.environ['PYSPARK_DRIVER_PYTHON'] = 'jupyter'\n",
    "os.environ['PYSPARK_DRIVER_PYTHON_OPTS'] = 'lab'\n",
    "os.environ['PYSPARK_PYTHON'] = 'python'"
   ]
  },
  {
   "cell_type": "code",
   "execution_count": 2,
   "metadata": {},
   "outputs": [],
   "source": [
    "import numpy as np\n",
    "import pandas as pd\n",
    "from sklearn.datasets import make_regression\n",
    "\n",
    "# Подготовка синтетических данных для обучения\n",
    "X, y = make_regression(n_samples=100, n_features=1, noise=10, random_state=42)\n",
    "y = y.reshape(-1, 1)\n",
    "data = pd.DataFrame(np.hstack([X, y]), columns=[\"feature\", \"label\"])"
   ]
  },
  {
   "cell_type": "markdown",
   "metadata": {},
   "source": [
    "## Провести кластеризацию с помощью pyspark.ml / pyspark.mllib"
   ]
  },
  {
   "cell_type": "code",
   "execution_count": 3,
   "metadata": {},
   "outputs": [],
   "source": [
    "from pyspark.sql import SparkSession\n",
    "from pyspark.ml.feature import VectorAssembler\n",
    "from pyspark.ml.regression import LinearRegression\n",
    "from pyspark.ml.evaluation import RegressionEvaluator\n",
    "\n",
    "\n",
    "# Инициализация SparkSession\n",
    "spark = SparkSession.builder.appName(\"LinearRegression\").getOrCreate()\n",
    "\n",
    "df = spark.createDataFrame(data)\n",
    "\n",
    "\n",
    "# Векторизация признаков\n",
    "vectorAssembler = VectorAssembler(inputCols=[\"feature\"], outputCol=\"features\")\n",
    "df = vectorAssembler.transform(df)\n",
    "\n",
    "\n",
    "# Разделение данных на обучающую и тестовую выборки\n",
    "train_data, test_data = df.randomSplit([0.8, 0.2], seed=42)\n",
    "\n",
    "# Создание модели линейной регрессии\n",
    "lr = LinearRegression(featuresCol=\"features\", labelCol=\"label\", predictionCol=\"prediction\")\n",
    "\n",
    "# Обучение модели\n",
    "lr_model = lr.fit(train_data)\n",
    "\n",
    "# Прогнозирование на тестовых данных\n",
    "predictions = lr_model.transform(test_data)"
   ]
  },
  {
   "cell_type": "markdown",
   "metadata": {},
   "source": [
    "# Провести расчет метрик"
   ]
  },
  {
   "cell_type": "code",
   "execution_count": 4,
   "metadata": {},
   "outputs": [
    {
     "name": "stdout",
     "output_type": "stream",
     "text": [
      "Mean Squared Error (MSE) = 111.1909459941159\n",
      "R Squared (R2) = 0.9534325882512602\n",
      "Mean Absolute Error\\ (MAE) = 8.18739911608149\n"
     ]
    }
   ],
   "source": [
    "from pyspark.ml.evaluation import RegressionEvaluator\n",
    "\n",
    "# Оценка модели\n",
    "evaluator_mse = RegressionEvaluator(labelCol=\"label\", predictionCol=\"prediction\", metricName=\"mse\")\n",
    "mse = evaluator_mse.evaluate(predictions)\n",
    "\n",
    "evaluator_r2 = RegressionEvaluator(labelCol=\"label\", predictionCol=\"prediction\", metricName=\"r2\")\n",
    "r2 = evaluator_r2.evaluate(predictions)\n",
    "\n",
    "evaluator_mae = RegressionEvaluator(labelCol=\"label\", predictionCol=\"prediction\", metricName=\"mae\")\n",
    "mae = evaluator_mae.evaluate(predictions)\n",
    "\n",
    "print(f\"Mean Squared Error (MSE) = {mse}\")\n",
    "print(f\"R Squared (R2) = {r2}\")\n",
    "print(f\"Mean Absolute Error (MAE) = {mae}\")"
   ]
  },
  {
   "cell_type": "markdown",
   "metadata": {},
   "source": [
    "## Сохранить полученные значения метрик в файл."
   ]
  },
  {
   "cell_type": "code",
   "execution_count": 5,
   "metadata": {},
   "outputs": [],
   "source": [
    "with open(\"LinearRegressionMetrics.txt\", \"w\") as file:\n",
    "    print(f\"Mean Squared Error (MSE) = {mse}\", file=file)\n",
    "    print(f\"R Squared (R2) = {r2}\", file=file)\n",
    "    print(f\"Mean Absolute Error (MAE) = {mae}\", file=file)\n",
    "    "
   ]
  }
 ],
 "metadata": {
  "kernelspec": {
   "display_name": ".venv",
   "language": "python",
   "name": "python3"
  },
  "language_info": {
   "codemirror_mode": {
    "name": "ipython",
    "version": 3
   },
   "file_extension": ".py",
   "mimetype": "text/x-python",
   "name": "python",
   "nbconvert_exporter": "python",
   "pygments_lexer": "ipython3",
   "version": "3.10.11"
  }
 },
 "nbformat": 4,
 "nbformat_minor": 2
}
