{
 "cells": [
  {
   "cell_type": "markdown",
   "metadata": {},
   "source": [
    "# Задание 4. Word2vec\n",
    "1. Сгенерировать подходящие исходные данные для проведения обучения\n",
    "2. Провести векторизацию слов с помощью pyspark.ml / pyspark.mllib\n",
    "3. Сохранить полученные векторы"
   ]
  },
  {
   "cell_type": "markdown",
   "metadata": {},
   "source": [
    "## Сгенерировать подходящие исходные данные для проведения обучения"
   ]
  },
  {
   "cell_type": "code",
   "execution_count": 1,
   "metadata": {},
   "outputs": [],
   "source": [
    "import re\n",
    "\n",
    "# Считывание исходных данных\n",
    "file_path = \"data_wordtovec.txt\"\n",
    "with open(file_path, \"r\") as f:\n",
    "    sentence = f.read()\n",
    "\n",
    "# Формирование списа слов для векторизации.\n",
    "sentences =re.sub(r'[^\\w\\s]', '', sentence).split()\n",
    "data = [(sentence.strip(),) for sentence in sentences if sentence.strip()]\n",
    "\n"
   ]
  },
  {
   "cell_type": "markdown",
   "metadata": {},
   "source": [
    "## Провести векторизацию слов с помощью pyspark.ml / pyspark.mllib"
   ]
  },
  {
   "cell_type": "code",
   "execution_count": 2,
   "metadata": {},
   "outputs": [],
   "source": [
    "import os\n",
    "os.environ['SPARK_HOME'] = \"D:/BigData/spark-3.5.3\"\n",
    "os.environ['PYSPARK_DRIVER_PYTHON'] = 'jupyter'\n",
    "os.environ['PYSPARK_DRIVER_PYTHON_OPTS'] = 'lab'\n",
    "os.environ['PYSPARK_PYTHON'] = 'python'\n",
    "\n",
    "\n",
    "from pyspark.sql import SparkSession\n",
    "from pyspark.ml.feature import Tokenizer, Word2Vec\n",
    "\n",
    "\n",
    "spark = SparkSession.builder.appName(\"Word2Vec\").getOrCreate()\n",
    "\n",
    "df = spark.createDataFrame(data, [\"text\"])\n",
    "\n",
    "tokenizer = Tokenizer(inputCol=\"text\", outputCol=\"words\")\n",
    "wordsData = tokenizer.transform(df)\n",
    "\n",
    "\n",
    "word2Vec = Word2Vec(vectorSize=1, minCount=0, inputCol=\"words\", outputCol=\"result\")\n",
    "\n",
    "model = word2Vec.fit(wordsData)\n"
   ]
  },
  {
   "cell_type": "markdown",
   "metadata": {},
   "source": [
    "## Сохранить полученные векторы"
   ]
  },
  {
   "cell_type": "code",
   "execution_count": 12,
   "metadata": {},
   "outputs": [],
   "source": [
    "vectors = model.getVectors()\n",
    "\n",
    "vectors = vectors.toPandas()\n",
    "\n",
    "vectors.to_json('vectors.json', orient='records', lines=True)\n"
   ]
  }
 ],
 "metadata": {
  "kernelspec": {
   "display_name": ".venv",
   "language": "python",
   "name": "python3"
  },
  "language_info": {
   "codemirror_mode": {
    "name": "ipython",
    "version": 3
   },
   "file_extension": ".py",
   "mimetype": "text/x-python",
   "name": "python",
   "nbconvert_exporter": "python",
   "pygments_lexer": "ipython3",
   "version": "3.10.11"
  }
 },
 "nbformat": 4,
 "nbformat_minor": 2
}
